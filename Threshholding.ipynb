{
 "cells": [
  {
   "cell_type": "markdown",
   "metadata": {},
   "source": [
    "# The Effect of Threshholding on Classification\n",
    "\n",
    "## The Methods\n",
    "\n",
    "We first perform some simple threshholding.  The conjecture is that low intensity pixels might cause some fuzzing in the classification process, so we zero out all pixels with value below a certain threshhold, and perform classification over all possible threshhold values.\n",
    "\n",
    "## Environment\n",
    "\n",
    "Of course, we always need the environment."
   ]
  },
  {
   "cell_type": "code",
   "execution_count": null,
   "metadata": {
    "collapsed": true
   },
   "outputs": [],
   "source": [
    "import pandas as pd\n",
    "pd.options.display.max_rows = 10\n",
    "pd.options.display.max_columns = 29\n",
    "\n",
    "import numpy as np\n",
    "\n",
    "from sklearn import svm, metrics"
   ]
  },
  {
   "cell_type": "code",
   "execution_count": null,
   "metadata": {
    "collapsed": true
   },
   "outputs": [],
   "source": [
    "data = pd.read_csv('train.csv').get_values()"
   ]
  },
  {
   "cell_type": "markdown",
   "metadata": {},
   "source": [
    "## Simple Threshholding\n",
    "\n",
    "For our initial threshholding, we use a smaller training set in order to get at least some information."
   ]
  },
  {
   "cell_type": "code",
   "execution_count": null,
   "metadata": {
    "collapsed": true
   },
   "outputs": [],
   "source": [
    "refinement_training_labels = data[:10000,0]\n",
    "refinement_test_labels = data[10001:11000,0]\n",
    "refinement_test_data = data[10001:11000,1:]\n",
    "metrics_np = np.ndarray(shape=(5,0))\n",
    "for refinement in range(0, 255):\n",
    "    refinement_training_data = data[:10000,1:]\n",
    "    refinement_training_data[refinement_training_data < refinement] = 0\n",
    "    refinement_classifier = svm.LinearSVC()\n",
    "    refinement_classifier.fit(refinement_training_data, refinement_training_labels)\n",
    "    refinement_predicted_labels = refinement_classifier.predict(refinement_test_data)\n",
    "    labels = np.array(range(0, 10))\n",
    "    refinements = np.empty(10)\n",
    "    refinements.fill(refinement)\n",
    "    precision = metrics.precision_score(refinement_test_labels, refinement_predicted_labels, average=None)\n",
    "    recall = metrics.recall_score(refinement_test_labels, refinement_predicted_labels, average=None)\n",
    "    f1 = metrics.f1_score(refinement_test_labels, refinement_predicted_labels, average=None)\n",
    "    scores = np.vstack([refinements, labels, precision, recall, f1])\n",
    "    metrics_np = np.concatenate((metrics_np, scores), axis=1)\n",
    "    print(\"Finished refinement %i\" % refinement)\n",
    "    \n",
    "metrics_df = pd.DataFrame(\n",
    "    columns = ['refinement', 'label', 'precision', 'recall', 'f1'],\n",
    "    data = metrics_np.T\n",
    ")"
   ]
  },
  {
   "cell_type": "markdown",
   "metadata": {},
   "source": [
    "## Line Thickness\n",
    "\n",
    "Our previous attempt at dimensionality reduction by projecting onto the y-axis was less than promising.  One possible explanation is that variations in line thickness could confuse the model.  Two methods to correct this will be attempted."
   ]
  },
  {
   "cell_type": "code",
   "execution_count": null,
   "metadata": {
    "collapsed": true
   },
   "outputs": [],
   "source": []
  }
 ],
 "metadata": {
  "anaconda-cloud": {},
  "kernelspec": {
   "display_name": "Python [Root]",
   "language": "python",
   "name": "Python [Root]"
  },
  "language_info": {
   "codemirror_mode": {
    "name": "ipython",
    "version": 3
   },
   "file_extension": ".py",
   "mimetype": "text/x-python",
   "name": "python",
   "nbconvert_exporter": "python",
   "pygments_lexer": "ipython3",
   "version": "3.5.1"
  }
 },
 "nbformat": 4,
 "nbformat_minor": 0
}
