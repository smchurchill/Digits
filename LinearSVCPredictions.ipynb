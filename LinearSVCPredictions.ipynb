{
 "cells": [
  {
   "cell_type": "markdown",
   "metadata": {},
   "source": [
    "# LinearSVC Classification of Digits Dataset\n",
    "## Environment\n",
    "First, we set up our environment with standard packages."
   ]
  },
  {
   "cell_type": "code",
   "execution_count": 25,
   "metadata": {
    "collapsed": true
   },
   "outputs": [],
   "source": [
    "import pandas as pd\n",
    "pd.options.display.max_rows = 10\n",
    "pd.options.display.max_columns = 28"
   ]
  },
  {
   "cell_type": "code",
   "execution_count": 26,
   "metadata": {
    "collapsed": true
   },
   "outputs": [],
   "source": [
    "import numpy as np"
   ]
  },
  {
   "cell_type": "code",
   "execution_count": 27,
   "metadata": {
    "collapsed": true
   },
   "outputs": [],
   "source": [
    "from sklearn import svm, metrics"
   ]
  },
  {
   "cell_type": "markdown",
   "metadata": {},
   "source": [
    "## Initial Handling of Data\n",
    "The data is available from Kaggle with no extra cleaning/modification needed."
   ]
  },
  {
   "cell_type": "code",
   "execution_count": 28,
   "metadata": {
    "collapsed": false
   },
   "outputs": [
    {
     "data": {
      "text/plain": [
       "array([[1, 0, 0, ..., 0, 0, 0],\n",
       "       [0, 0, 0, ..., 0, 0, 0],\n",
       "       [1, 0, 0, ..., 0, 0, 0],\n",
       "       ..., \n",
       "       [7, 0, 0, ..., 0, 0, 0],\n",
       "       [6, 0, 0, ..., 0, 0, 0],\n",
       "       [9, 0, 0, ..., 0, 0, 0]])"
      ]
     },
     "execution_count": 28,
     "metadata": {},
     "output_type": "execute_result"
    }
   ],
   "source": [
    "training_digits = pd.read_csv('train.csv').get_values()\n",
    "training_digits"
   ]
  },
  {
   "cell_type": "markdown",
   "metadata": {},
   "source": [
    "## Initial Training\n",
    "We'll train on the first 90% of the data to see what kind of accuracy we can expect."
   ]
  },
  {
   "cell_type": "code",
   "execution_count": 29,
   "metadata": {
    "collapsed": false
   },
   "outputs": [
    {
     "data": {
      "text/plain": [
       "LinearSVC(C=1.0, class_weight=None, dual=True, fit_intercept=True,\n",
       "     intercept_scaling=1, loss='squared_hinge', max_iter=1000,\n",
       "     multi_class='ovr', penalty='l2', random_state=None, tol=0.0001,\n",
       "     verbose=0)"
      ]
     },
     "execution_count": 29,
     "metadata": {},
     "output_type": "execute_result"
    }
   ],
   "source": [
    "training_labels = training_digits[:37800,0]\n",
    "training_data = training_digits[:37800,1:]\n",
    "classifier = svm.LinearSVC()\n",
    "classifier.fit(training_data, training_labels)"
   ]
  },
  {
   "cell_type": "code",
   "execution_count": 30,
   "metadata": {
    "collapsed": false
   },
   "outputs": [
    {
     "name": "stdout",
     "output_type": "stream",
     "text": [
      "             precision    recall  f1-score   support\n",
      "\n",
      "          0       0.93      0.96      0.94       455\n",
      "          1       0.93      0.97      0.95       458\n",
      "          2       0.88      0.81      0.84       392\n",
      "          3       0.94      0.81      0.87       448\n",
      "          4       0.84      0.92      0.88       438\n",
      "          5       0.90      0.70      0.79       354\n",
      "          6       0.88      0.95      0.92       413\n",
      "          7       0.92      0.93      0.92       421\n",
      "          8       0.76      0.77      0.77       397\n",
      "          9       0.76      0.86      0.81       424\n",
      "\n",
      "avg / total       0.88      0.87      0.87      4200\n",
      "\n"
     ]
    }
   ],
   "source": [
    "test_labels = training_digits[37800:,0]\n",
    "test_data = training_digits[37800:,1:]\n",
    "predicted = classifier.predict(test_data)\n",
    "print(metrics.classification_report(test_labels,predicted))"
   ]
  },
  {
   "cell_type": "markdown",
   "metadata": {},
   "source": [
    "An accuracy of 88% is good, but not great."
   ]
  },
  {
   "cell_type": "markdown",
   "metadata": {},
   "source": [
    "## Predict on the test data\n",
    "We'll expand our classifier to the rest of the training data, then test on the testing data.  Our expected accuracy is 88%, so it's unlikely that we'll actually submit this prediction."
   ]
  },
  {
   "cell_type": "code",
   "execution_count": 32,
   "metadata": {
    "collapsed": false
   },
   "outputs": [
    {
     "data": {
      "text/plain": [
       "array([2, 0, 9, ..., 3, 9, 2])"
      ]
     },
     "execution_count": 32,
     "metadata": {},
     "output_type": "execute_result"
    }
   ],
   "source": [
    "full_training_labels = training_digits[:,0]\n",
    "full_training_data = training_digits[:,1:]\n",
    "full_classifier = svm.LinearSVC()\n",
    "full_classifier.fit(full_training_data, full_training_labels)\n",
    "full_test_data = pd.read_csv('test.csv')\n",
    "full_predictions = full_classifier.predict(full_test_data)\n",
    "full_predictions"
   ]
  }
 ],
 "metadata": {
  "anaconda-cloud": {},
  "kernelspec": {
   "display_name": "Python [Root]",
   "language": "python",
   "name": "Python [Root]"
  },
  "language_info": {
   "codemirror_mode": {
    "name": "ipython",
    "version": 3
   },
   "file_extension": ".py",
   "mimetype": "text/x-python",
   "name": "python",
   "nbconvert_exporter": "python",
   "pygments_lexer": "ipython3",
   "version": "3.5.1"
  }
 },
 "nbformat": 4,
 "nbformat_minor": 0
}
